{
 "cells": [
  {
   "cell_type": "code",
   "execution_count": 3,
   "id": "a2b379ea",
   "metadata": {},
   "outputs": [
    {
     "name": "stdout",
     "output_type": "stream",
     "text": [
      "orignal list [1, 2, 3, 4, 5]\n",
      "updated list after adding elements [1, 2, 3, 4, 5, 9, 10]\n",
      "updated list after removing elements [1, 2, 3, 4, 9]\n",
      "updated list after modify elements [1, 2, 3, 2000, 9]\n"
     ]
    }
   ],
   "source": [
    "#creating  a list\n",
    "list1=[1,2,3,4,5]\n",
    "print(\"orignal list\",list1)\n",
    "#adding elements in the list\n",
    "list1.append(9)\n",
    "list1.append(10)\n",
    "print(\"updated list after adding elements\",list1)\n",
    "#removing elements in the list\n",
    "list1.remove(5)\n",
    "list1.remove(10)\n",
    "print(\"updated list after removing elements\",list1)\n",
    "#modify elements in the list \n",
    "list1[3]=2000\n",
    "print(\"updated list after modify elements\",list1)"
   ]
  },
  {
   "cell_type": "code",
   "execution_count": 4,
   "id": "c66dbc82",
   "metadata": {},
   "outputs": [
    {
     "name": "stdout",
     "output_type": "stream",
     "text": [
      "orignal list {'A': 1, 'B': 2, 'C': 3}\n",
      "updated list after adding elements {'A': 1, 'B': 2, 'C': 3, 'D': 4, 'E': 5}\n",
      "updated list after deletion {'A': 1, 'B': 2, 'C': 3, 'D': 4}\n",
      "updated list after modify elements {'A': 100, 'B': 2, 'C': 3, 'D': 4}\n"
     ]
    }
   ],
   "source": [
    "#creating dictionary \n",
    "dict1={'A':1,'B':2,'C':3}\n",
    "print(\"orignal list\",dict1)\n",
    "#adding elements in the dictionary\n",
    "dict1['D']=4\n",
    "dict1['E']=5\n",
    "print(\"updated list after adding elements\",dict1)\n",
    "#removing elements in the dictionary\n",
    "del dict1['E']\n",
    "print(\"updated list after deletion\",dict1)\n",
    "#modify elements in the dictionary\n",
    "dict1['A']=100\n",
    "print(\"updated list after modify elements\",dict1)"
   ]
  },
  {
   "cell_type": "code",
   "execution_count": 5,
   "id": "8b1920c4",
   "metadata": {},
   "outputs": [
    {
     "name": "stdout",
     "output_type": "stream",
     "text": [
      "orignal set {1, 2, 3, 4, 5}\n",
      "updated set after adding elements {1, 2, 3, 4, 5, 9, 10}\n",
      "updated set after deleting elements {1, 2, 3, 4, 9}\n"
     ]
    }
   ],
   "source": [
    "#creating set\n",
    "s={1,2,3,4,5}\n",
    "print(\"orignal set\",s)\n",
    "#adding elements in the set\n",
    "s.add(9)\n",
    "s.add(10)\n",
    "print(\"updated set after adding elements\",s)\n",
    "#removing elements in the set\n",
    "s.remove(5)\n",
    "s.discard(10)\n",
    "print(\"updated set after deleting elements\",s)\n"
   ]
  },
  {
   "cell_type": "code",
   "execution_count": null,
   "id": "7ed16c54",
   "metadata": {},
   "outputs": [],
   "source": []
  }
 ],
 "metadata": {
  "kernelspec": {
   "display_name": "Python 3 (ipykernel)",
   "language": "python",
   "name": "python3"
  },
  "language_info": {
   "codemirror_mode": {
    "name": "ipython",
    "version": 3
   },
   "file_extension": ".py",
   "mimetype": "text/x-python",
   "name": "python",
   "nbconvert_exporter": "python",
   "pygments_lexer": "ipython3",
   "version": "3.11.4"
  }
 },
 "nbformat": 4,
 "nbformat_minor": 5
}
